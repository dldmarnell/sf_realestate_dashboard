{
 "cells": [
  {
   "cell_type": "markdown",
   "metadata": {},
   "source": [
    "# San Francisco Rental Prices Dashboard\n",
    "\n",
    "In this notebook, you will compile the visualizations from the previous analysis into functions that can be used for a Panel dashboard."
   ]
  },
  {
   "cell_type": "code",
   "execution_count": 22,
   "metadata": {},
   "outputs": [],
   "source": [
    "# imports\n",
    "import pandas as pd\n",
    "import panel as pn\n",
    "import matplotlib.pyplot as plt\n",
    "import os\n",
    "from pathlib import Path\n",
    "from dotenv import load_dotenv\n",
    "from panel import widgets\n",
    "import plotly.express as px\n",
    "\n",
    "from matplotlib.figure import Figure\n",
    "from matplotlib.backends.backend_agg import FigureCanvas "
   ]
  },
  {
   "cell_type": "code",
   "execution_count": 23,
   "metadata": {},
   "outputs": [],
   "source": [
    "pn.extension('plotly')"
   ]
  },
  {
   "cell_type": "code",
   "execution_count": 24,
   "metadata": {},
   "outputs": [],
   "source": [
    "import hvplot.pandas"
   ]
  },
  {
   "cell_type": "code",
   "execution_count": 25,
   "metadata": {},
   "outputs": [],
   "source": [
    "# Read the Mapbox API key\n",
    "load_dotenv()\n",
    "map_box_api = os.getenv(\"MAPBOX_API_KEY\")\n",
    "px.set_mapbox_access_token(map_box_api)"
   ]
  },
  {
   "cell_type": "markdown",
   "metadata": {},
   "source": [
    "# Import Data"
   ]
  },
  {
   "cell_type": "code",
   "execution_count": 26,
   "metadata": {},
   "outputs": [],
   "source": [
    "# Import the necessary CSVs to Pandas DataFrames\n",
    "file_path = Path(\"Data/sfo_neighborhoods_census_data.csv\")\n",
    "sfo_data = pd.read_csv(file_path, index_col=\"year\")\n",
    "\n",
    "coordinates_data = pd.read_csv(Path(\"Data/neighborhoods_coordinates.csv\")).dropna()\n",
    "coordinates_data.drop_duplicates(inplace=True)"
   ]
  },
  {
   "cell_type": "markdown",
   "metadata": {},
   "source": [
    "- - -"
   ]
  },
  {
   "cell_type": "markdown",
   "metadata": {},
   "source": [
    "## Panel Visualizations\n",
    "\n",
    "In this section, you will copy the code for each plot type from your analysis notebook and place it into separate functions that Panel can use to create panes for the dashboard. \n",
    "\n",
    "These functions will convert the plot object to a Panel pane.\n",
    "\n",
    "Be sure to include any DataFrame transformation/manipulation code required along with the plotting code.\n",
    "\n",
    "Return a Panel pane object from each function that can be used to build the dashboard.\n",
    "\n",
    "Note: Remove any `.show()` lines from the code. We want to return the plots instead of showing them. The Panel dashboard will then display the plots."
   ]
  },
  {
   "cell_type": "code",
   "execution_count": 27,
   "metadata": {},
   "outputs": [],
   "source": [
    "def get_housing_units_yearly():\n",
    "    \"\"\"Creating Housing Units Per Year DF\"\"\"\n",
    "    housing_units_yearly = (\n",
    "        sfo_data[[\"housing_units\"]]\n",
    "        .groupby([sfo_data.index])\n",
    "        .mean()\n",
    "        .reset_index()\n",
    "    )\n",
    "    columns = [\"Year\", \"Housing Units\"]\n",
    "    housing_units_yearly.columns = columns\n",
    "    \n",
    "    return housing_units_yearly"
   ]
  },
  {
   "cell_type": "code",
   "execution_count": 28,
   "metadata": {},
   "outputs": [],
   "source": [
    "def get_avg_housing_sale_price():\n",
    "    \"\"\"Creating Average Sale Price in San Francisco Per Year DF\"\"\"\n",
    "    avg_housing_sale_price = (\n",
    "        sfo_data[[\"sale_price_sqr_foot\"]]\n",
    "        .groupby(sfo_data.index)\n",
    "        .mean()\n",
    "        .reset_index()\n",
    "    )\n",
    "    columns = [\"Year\", \"Price per SqFt\"]\n",
    "    avg_housing_sale_price.columns = columns\n",
    "    \n",
    "    return avg_housing_sale_price"
   ]
  },
  {
   "cell_type": "code",
   "execution_count": 29,
   "metadata": {},
   "outputs": [],
   "source": [
    "def get_avg_housing_rent():\n",
    "    \"\"\"Creating Average Gross Rent in San Francisco Per Year DF\"\"\"\n",
    "    avg_housing_rent = (\n",
    "        sfo_data[[\"gross_rent\"]]\n",
    "        .groupby(sfo_data.index)\n",
    "        .mean()\n",
    "        .reset_index()\n",
    "    )\n",
    "    columns = [\"Year\", \"Gross Rent\"]\n",
    "    avg_housing_rent.columns = columns\n",
    "    \n",
    "    return avg_housing_rent"
   ]
  },
  {
   "cell_type": "code",
   "execution_count": 30,
   "metadata": {},
   "outputs": [],
   "source": [
    "def get_neighborhood_avg():\n",
    "    \"\"\"Creating Average Prices by Neighborhood DF\"\"\"\n",
    "    neighborhood_avg = (\n",
    "        sfo_data\n",
    "        .groupby([sfo_data.index, \"neighborhood\"])\n",
    "        .mean()\n",
    "        .reset_index()\n",
    "    )\n",
    "    columns = [\"Year\", \"Neighborhood\", \"Avg. Sale Price per Square Foot\", \"Housing Units\", \"Gross Rent\"]\n",
    "    neighborhood_avg.columns = columns\n",
    "    \n",
    "    return neighborhood_avg"
   ]
  },
  {
   "cell_type": "code",
   "execution_count": 31,
   "metadata": {},
   "outputs": [],
   "source": [
    "def get_most_expensive_neighborhoods():\n",
    "    \"\"\"Creating Top 10 Most Expensive Neighborhoods DF\"\"\"\n",
    "    expensive_neighborhoods = (\n",
    "        sfo_data\n",
    "        .reset_index(drop=True)\n",
    "        .groupby([\"neighborhood\"])\n",
    "        .mean()\n",
    "        .sort_values(\"sale_price_sqr_foot\", ascending=False)\n",
    "        .reset_index()\n",
    "    )\n",
    "    columns = [\"Neighborhood\", \"Avg. Sale Price per Square Foot\", \"Housing Units\", \"Gross Rent\"]\n",
    "    expensive_neighborhoods.columns = columns\n",
    "    top_most_expensive_neighborhoods = expensive_neighborhoods[:10]\n",
    "    \n",
    "    return top_most_expensive_neighborhoods"
   ]
  },
  {
   "cell_type": "code",
   "execution_count": 32,
   "metadata": {},
   "outputs": [],
   "source": [
    "def get_most_expensive_neighborhoods_yearly():\n",
    "    \"\"\"Creating Most Expensive Neighborhood Prices DF\"\"\"\n",
    "    most_expensive_neighborhoods = (\n",
    "        get_neighborhood_avg()\n",
    "        .groupby([\"Neighborhood\", \"Gross Rent\", \"Avg. Sale Price per Square Foot\"])\n",
    "        .mean()\n",
    "        .reset_index()\n",
    "    )\n",
    "    \n",
    "    exp_neighborhood = []\n",
    "    exp_neighborhood_df = get_top_most_expensive_neighborhoods()[\"Neighborhood\"]\n",
    "\n",
    "    for neighborhood in exp_neighborhood_df:\n",
    "        exp_neighborhood.append(neighborhood)\n",
    "\n",
    "    most_expensive_neighborhood_data = (\n",
    "        most_expensive_neighborhoods[most_expensive_neighborhoods[\"Neighborhood\"].isin(exp_neighborhood)]\n",
    "    )\n",
    "    \n",
    "    return most_expensive_neighborhood_data"
   ]
  },
  {
   "cell_type": "code",
   "execution_count": 33,
   "metadata": {},
   "outputs": [],
   "source": [
    "def get_neighborhood_data():     \n",
    "    \"Creating Neighborhood Locations and Avg Values DF\"\n",
    "    neighborhood_avg_values = (\n",
    "        sfo_data\n",
    "        .groupby([\"neighborhood\"])\n",
    "        .mean()\n",
    "        .reset_index()\n",
    "    )\n",
    "    \n",
    "    neighborhood_data_df = pd.concat(\n",
    "    [coordinates_data, neighborhood_avg_values],\n",
    "    axis=1,\n",
    "    )\n",
    "    \n",
    "    neighborhood_data_df = neighborhood_data_df.drop(columns = [\"neighborhood\"])\n",
    "    neighborhood_data_df = neighborhood_data_df.rename(columns = {\n",
    "        \"Lat\" : \"Latitude\",\n",
    "        \"Lon\" : \"Longitude\",\n",
    "        \"sale_price_sqr_foot\" : \"Avg Sale Price per Square Foot\",\n",
    "        \"housing_units\" : \"Housing Units\",\n",
    "        \"gross_rent\" : \"Gross Rent\"\n",
    "    })\n",
    "    \n",
    "    return neighborhood_data_df"
   ]
  },
  {
   "cell_type": "code",
   "execution_count": 34,
   "metadata": {},
   "outputs": [],
   "source": [
    "# Define Panel Visualization Functions\n",
    "def housing_units_per_year():\n",
    "    \"\"\"Housing Units Per Year.\"\"\"\n",
    "    fig=plt.figure()\n",
    "    housing_units_yearly = (\n",
    "        sfo_data[[\"housing_units\"]]\n",
    "        .groupby([sfo_data.index])\n",
    "        .mean()\n",
    "        .reset_index()\n",
    "    )\n",
    "    columns = [\"Year\", \"Housing Units\"]\n",
    "    housing_units_yearly.columns = columns\n",
    "    \n",
    "    my_plot = housing_units_yearly.plot(\n",
    "        kind=\"bar\", \n",
    "        x=\"Year\", \n",
    "        y=\"Housing Units\",\n",
    "        ylim=(370000, 390000),\n",
    "        figsize=(15,10),\n",
    "        title=\"Housing Units in San Francsico from 2010 to 2016\"\n",
    "    )\n",
    "#     my_plot.set_ylabel(\"Housing Units\")\n",
    "    plt.close(fig)\n",
    "    return pn.panel(fig, tight=True)\n",
    "\n",
    "def average_gross_rent():\n",
    "    \"\"\"Average Gross Rent in San Francisco Per Year.\"\"\"\n",
    "    fig=plt.figure()\n",
    "    avg_housing_rent = get_avg_housing_rent()\n",
    "    gross_rent_avg_plot = avg_housing_rent.plot(\n",
    "        x=\"Year\",\n",
    "        y=\"Gross Rent\",\n",
    "        title=\"Average Gross Rent by Year\",\n",
    "        color=\"g\",\n",
    "        figsize=(15,10)\n",
    "    ).set_ylabel(\"Gross Rent\")\n",
    "    plt.close(fig)\n",
    "    return pn.pane.Matplotlib(fig)\n",
    "\n",
    "def average_sale_price():\n",
    "    \"\"\"Average Sales Price Per Year.\"\"\"\n",
    "    fig=plt.figure()\n",
    "    avg_housing_sale_price = get_avg_housing_sale_price()\n",
    "    sale_price_avg_plot = avg_housing_sale_price.plot(\n",
    "        x=\"Year\",\n",
    "        y=\"Price per SqFt\",\n",
    "        title=\"Average Price per SqFt by Year\",\n",
    "        color=\"r\",\n",
    "        figsize=(15,10)\n",
    "    ).set_ylabel(\"Price per SqFt\")\n",
    "    my_plot = sale_price_avg_plot.plot()\n",
    "    plt.close(fig)\n",
    "    return pn.pane.Matplotlib(fig)\n",
    "\n",
    "def average_price_by_neighborhood():\n",
    "    \"\"\"Average Prices by Neighborhood.\"\"\"\n",
    "    neighborhood_avg = get_neighborhood_avg()\n",
    "    neighborhood_avg_price_plot = neighborhood_avg.hvplot(\n",
    "        x=\"Year\",\n",
    "        y=\"Avg. Sale Price per Square Foot\",\n",
    "        groupby=\"Neighborhood\",\n",
    "        width=1000,\n",
    "        height=500\n",
    "    )\n",
    "    \n",
    "    return neighborhood_avg_price_plot\n",
    "\n",
    "def average_rent_by_neighborhood():\n",
    "    \"\"\"Average Gross Rent by Neighborhood\"\"\"\n",
    "    neighborhood_avg = get_neighborhood_avg()\n",
    "    neighborhood_avg_rent_plot = neighborhood_avg.hvplot(\n",
    "        x=\"Year\",\n",
    "        y=\"Gross Rent\",\n",
    "        groupby=\"Neighborhood\",\n",
    "        width=1000,\n",
    "        height=500\n",
    "    )\n",
    "\n",
    "    return neighborhood_avg_rent_plot\n",
    "    \n",
    "def top_most_expensive_neighborhoods():\n",
    "    \"\"\"Top 10 Most Expensive Neighborhoods.\"\"\" \n",
    "    most_expensive_neighborhoods = get_most_expensive_neighborhoods()\n",
    "    most_expensive_neighborhoods_plot = most_expensive_neighborhoods.hvplot.bar(\n",
    "        x=\"Neighborhood\",\n",
    "        y=\"Avg. Sale Price per Square Foot\",\n",
    "        title=\"Top 10 Expensive Neighborhoods in SFO\",\n",
    "        rot=90,\n",
    "        width=1000,\n",
    "        height=500\n",
    "    )\n",
    "\n",
    "    return most_expensive_neighborhoods_plot\n",
    "\n",
    "def most_expensive_neighborhoods_rent_sales():\n",
    "    \"\"\"Most Expensive Neighborhood Prices\"\"\"\n",
    "    most_expensive_neighborhoods_yearly = get_most_expensive_neighborhoods_yearly()\n",
    "    expensive_rent_neighborhood_plot = most_expensive_neighborhoods_yearly.hvplot.bar(\n",
    "        x=\"Year\",\n",
    "        y=[\"Gross Rent\", \"Avg. Sale Price per Square Foot\"],\n",
    "        xlabel= \"Year\",\n",
    "        ylabel = \"Housing Units\",\n",
    "        groupby=\"Neighborhood\",\n",
    "        title=\"Top 10 Expensive Neighborhoods in SFO\",\n",
    "        rot=90,\n",
    "        width=1000,\n",
    "        height=500\n",
    "    )\n",
    "    \n",
    "    return expensive_rent_neighborhood_plot\n",
    "    \n",
    "def parallel_coordinates():\n",
    "    \"\"\"Parallel Coordinates Plot.\"\"\"\n",
    "    most_expensive_neighborhoods = get_most_expensive_neighborhoods()\n",
    "    parallel_coordinates_plot = px.parallel_coordinates(\n",
    "        most_expensive_neighborhoods,\n",
    "        color=\"Avg. Sale Price per Square Foot\",\n",
    "        dimensions=[\"Avg. Sale Price per Square Foot\", \"Housing Units\", \"Gross Rent\"],\n",
    "        color_continuous_scale=px.colors.sequential.Inferno,\n",
    "    )\n",
    "    \n",
    "    return parallel_coordinates_plot\n",
    "\n",
    "\n",
    "def parallel_categories():\n",
    "    \"\"\"Parallel Categories Plot.\"\"\"\n",
    "    most_expensive_neighborhoods = get_most_expensive_neighborhoods()\n",
    "    parallel_categories_plot = px.parallel_categories( \n",
    "        most_expensive_neighborhoods,\n",
    "        dimensions=[\"Neighborhood\", \"Avg. Sale Price per Square Foot\", \"Housing Units\", \"Gross Rent\"],\n",
    "        color=\"Avg. Sale Price per Square Foot\",\n",
    "        color_continuous_scale=px.colors.sequential.Inferno,\n",
    "        title=\"Parallel Categories Analysis of Most Expensive San Francisco Neighborhoods\"\n",
    "    )\n",
    "    \n",
    "    return parallel_categories_plot \n",
    "\n",
    "def neighborhood_map():\n",
    "    \"\"\"Neighborhood Map.\"\"\"    \n",
    "    neighborhood_data = get_neighborhood_data()\n",
    "    neighborhood_scatter_plot = px.scatter_mapbox(\n",
    "        neighborhood_data,\n",
    "        lat=\"Latitude\",\n",
    "        lon=\"Longitude\",\n",
    "        hover_name=\"Neighborhood\",\n",
    "        color=\"Gross Rent\",\n",
    "        size=\"Avg Sale Price per Square Foot\",\n",
    "        color_continuous_scale=px.colors.cyclical.IceFire,\n",
    "        title=\"Average Sale Price per Square Foot & Gross Rent in San Francisco\",\n",
    "        width=500\n",
    "    )\n",
    "    \n",
    "    return neighborhood_scatter_plot\n",
    "\n",
    "def sunburst():\n",
    "    \"\"\"Sunburst Plot.\"\"\"\n",
    "    most_expensive_neighborhoods_yearly = get_most_expensive_neighborhoods()\n",
    "    sunburst_plot = px.sunburst(\n",
    "        most_expensive_neighborhoods_yearly,\n",
    "        path=[\"Year\", \"Neighborhood\"],\n",
    "        color=\"Gross Rent\",\n",
    "        color_continuous_scale=px.colors.sequential.Blues   \n",
    "    )\n",
    "\n",
    "    return sunburst_plot"
   ]
  },
  {
   "cell_type": "markdown",
   "metadata": {},
   "source": [
    "## Panel Dashboard\n",
    "\n",
    "In this section, you will combine all of the plots into a single dashboard view using Panel. Be creative with your dashboard design!"
   ]
  },
  {
   "cell_type": "code",
   "execution_count": 35,
   "metadata": {},
   "outputs": [
    {
     "ename": "AttributeError",
     "evalue": "'Text' object has no attribute 'plot'",
     "output_type": "error",
     "traceback": [
      "\u001b[0;31m---------------------------------------------------------------------------\u001b[0m",
      "\u001b[0;31mAttributeError\u001b[0m                            Traceback (most recent call last)",
      "\u001b[0;32m<ipython-input-35-9a9a88a7b8f3>\u001b[0m in \u001b[0;36m<module>\u001b[0;34m\u001b[0m\n\u001b[1;32m      3\u001b[0m avg_sale_rent_col = pn.Column(\n\u001b[1;32m      4\u001b[0m     \u001b[0;34m\"## Average Housing Sale Price and Average Gross Rent by Year Graphs\"\u001b[0m\u001b[0;34m,\u001b[0m\u001b[0;34m\u001b[0m\u001b[0;34m\u001b[0m\u001b[0m\n\u001b[0;32m----> 5\u001b[0;31m     \u001b[0maverage_sale_price\u001b[0m\u001b[0;34m(\u001b[0m\u001b[0;34m)\u001b[0m\u001b[0;34m,\u001b[0m\u001b[0;34m\u001b[0m\u001b[0;34m\u001b[0m\u001b[0m\n\u001b[0m\u001b[1;32m      6\u001b[0m     \u001b[0maverage_gross_rent\u001b[0m\u001b[0;34m(\u001b[0m\u001b[0;34m)\u001b[0m\u001b[0;34m,\u001b[0m\u001b[0;34m\u001b[0m\u001b[0;34m\u001b[0m\u001b[0m\n\u001b[1;32m      7\u001b[0m     \u001b[0msizing_mode\u001b[0m\u001b[0;34m=\u001b[0m\u001b[0;34m\"stretch_width\"\u001b[0m\u001b[0;34m\u001b[0m\u001b[0;34m\u001b[0m\u001b[0m\n",
      "\u001b[0;32m<ipython-input-34-735e1a4f3586>\u001b[0m in \u001b[0;36maverage_sale_price\u001b[0;34m()\u001b[0m\n\u001b[1;32m     49\u001b[0m         \u001b[0mfigsize\u001b[0m\u001b[0;34m=\u001b[0m\u001b[0;34m(\u001b[0m\u001b[0;36m15\u001b[0m\u001b[0;34m,\u001b[0m\u001b[0;36m10\u001b[0m\u001b[0;34m)\u001b[0m\u001b[0;34m\u001b[0m\u001b[0;34m\u001b[0m\u001b[0m\n\u001b[1;32m     50\u001b[0m     ).set_ylabel(\"Price per SqFt\")\n\u001b[0;32m---> 51\u001b[0;31m     \u001b[0mmy_plot\u001b[0m \u001b[0;34m=\u001b[0m \u001b[0msale_price_avg_plot\u001b[0m\u001b[0;34m.\u001b[0m\u001b[0mplot\u001b[0m\u001b[0;34m(\u001b[0m\u001b[0;34m)\u001b[0m\u001b[0;34m\u001b[0m\u001b[0;34m\u001b[0m\u001b[0m\n\u001b[0m\u001b[1;32m     52\u001b[0m     \u001b[0mplt\u001b[0m\u001b[0;34m.\u001b[0m\u001b[0mclose\u001b[0m\u001b[0;34m(\u001b[0m\u001b[0mfig\u001b[0m\u001b[0;34m)\u001b[0m\u001b[0;34m\u001b[0m\u001b[0;34m\u001b[0m\u001b[0m\n\u001b[1;32m     53\u001b[0m     \u001b[0;32mreturn\u001b[0m \u001b[0mpn\u001b[0m\u001b[0;34m.\u001b[0m\u001b[0mpane\u001b[0m\u001b[0;34m.\u001b[0m\u001b[0mMatplotlib\u001b[0m\u001b[0;34m(\u001b[0m\u001b[0mfig\u001b[0m\u001b[0;34m)\u001b[0m\u001b[0;34m\u001b[0m\u001b[0;34m\u001b[0m\u001b[0m\n",
      "\u001b[0;31mAttributeError\u001b[0m: 'Text' object has no attribute 'plot'"
     ]
    },
    {
     "data": {
      "text/plain": [
       "<Figure size 432x288 with 0 Axes>"
      ]
     },
     "metadata": {},
     "output_type": "display_data"
    },
    {
     "data": {
      "image/png": "[encoded data removed]",
      "text/plain": [
       "<Figure size 1080x720 with 1 Axes>"
      ]
     },
     "metadata": {
      "needs_background": "light"
     },
     "output_type": "display_data"
    }
   ],
   "source": [
    "# Create a Title for the Dashboard\n",
    "\n",
    "avg_sale_rent_col = pn.Column(\n",
    "    \"## Average Housing Sale Price and Average Gross Rent by Year Graphs\",\n",
    "    average_sale_price(),\n",
    "    average_gross_rent(),\n",
    "    sizing_mode=\"stretch_width\"\n",
    ")\n",
    "\n",
    "expensive_neighborhood_parallels_col = pn.Column(\n",
    "    \"## Top Most Expensive Neighborhood Multivariable Analysis Graphs\",\n",
    "    parallel_coordinates(),\n",
    "    parallel_categories(),\n",
    "    sizing_mode=\"stretch_width\"\n",
    "\n",
    ")\n",
    "\n",
    "sunburst_col = pn.Column(\n",
    "    \"## Top Most Expensive Neighborhood Cost Anaylysis by Year\",\n",
    "    sunburst()\n",
    ")\n",
    "\n",
    "avg_sale_rent_by_neighborhood_col = pn.Column(\n",
    "    \"## Average Sale Price per SqFt & Gross Rent by Neighborhood Graphs\",\n",
    "    average_price_by_neighborhood(),\n",
    "    average_rent_by_neighborhood(),\n",
    "    sizing_mode=\"stretch_width\"\n",
    ")\n",
    "\n",
    "housing_units_col = pn.Column(\n",
    "    \"## Average Housing Units by Year Graph\",\n",
    "    housing_units_per_year(),\n",
    "    sizing_mode=\"stretch_width\"\n",
    ")\n",
    "\n",
    "expensive_neighborhoods_col = pn.Column(\n",
    "    \"## Top Most Expensive Neighborhoods & Yearly Data by Neighborhood Graphs\",\n",
    "    top_most_expensive_neighborhoods(),\n",
    "    most_expensive_neighborhoods_rent_sales(),\n",
    "    sizing_mode=\"stretch_width\"\n",
    "    \n",
    ")\n",
    "\n",
    "neighborhood_map_col = pn.Column(\n",
    "    \"# San Francisco Real Estate Interactive Dashboard\",\n",
    "    \"## San Francisco Neighborhood Map\",\n",
    "    neighborhood_map(),\n",
    "    sizing_mode=\"stretch_width\"\n",
    ")\n",
    "\n",
    "\n",
    "# Create a tab layout for the dashboard\n",
    "sf_realestate_dashboard = pn.Tabs(\n",
    "    (\"Neighborhood Map\", neighborhood_map_col),\n",
    "    (\"Housing Units Annually\", housing_units_col),\n",
    "    (\"Sale Price & Gross Rent\", avg_sale_rent_col),\n",
    "    (\"Sale Price & Gross Rent by Neighborhood\", avg_sale_rent_by_neighborhood_col),\n",
    "    (\"Expensive Neighborhoods\", expensive_neighborhoods_col),\n",
    "    (\"Expensive Neighborhoods Analysis\", expensive_neighborhood_parallels_col),\n",
    "    (\"Expensive Neighborhoods Cost Analysis\", sunburst_col)\n",
    ")\n",
    "\n",
    "# Create the dashboard\n",
    "sf_realestate_dashboard"
   ]
  },
  {
   "cell_type": "markdown",
   "metadata": {},
   "source": [
    "## Serve the Panel Dashboard"
   ]
  },
  {
   "cell_type": "code",
   "execution_count": 36,
   "metadata": {},
   "outputs": [],
   "source": [
    "# Serve the# dashboard\n",
    "# YOUR CODE HERE!\n"
   ]
  },
  {
   "cell_type": "markdown",
   "metadata": {},
   "source": [
    "# Debugging\n",
    "\n",
    "Note: Some of the Plotly express plots may not render in the notebook through the panel functions.\n",
    "\n",
    "However, you can test each plot by uncommenting the following code"
   ]
  },
  {
   "cell_type": "code",
   "execution_count": 37,
   "metadata": {},
   "outputs": [
    {
     "data": {},
     "metadata": {},
     "output_type": "display_data"
    },
    {
     "data": {
      "application/vnd.holoviews_exec.v0+json": "",
      "text/html": [
       "<div id='1007'>\n",
       "\n",
       "\n",
       "\n",
       "\n",
       "\n",
       "  <div class=\"bk-root\" id=\"8b525e5c-5d60-4121-8128-58e80582f959\" data-root-id=\"1007\"></div>\n",
       "</div>\n",
       "<script type=\"application/javascript\">(function(root) {\n",
       "  function embed_document(root) {\n",
       "    var docs_json = {\"2656fac4-ff30-45a3-88b0-0b0cb86e7db8\":{\"defs\":[],\"roots\":{\"references\":[{\"attributes\":{\"height\":288,\"margin\":[5,5,5,5],\"name\":\"Matplotlib01490\",\"text\":\"&lt;img src=&quot;data:image/png;base64,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&quot; width=&quot;432px&quot; height=&quot;288px&quot; alt=&quot;&quot;&gt;&lt;/img&gt;\",\"width\":432},\"id\":\"1007\",\"type\":\"panel.models.markup.HTML\"},{\"attributes\":{\"client_comm_id\":\"359871f734ba4a8ab1df2de1b54296fa\",\"comm_id\":\"708ad8c6b8e54ef6907b5e5986c1baa7\",\"plot_id\":\"1007\"},\"id\":\"1008\",\"type\":\"panel.models.comm_manager.CommManager\"}],\"root_ids\":[\"1007\",\"1008\"]},\"title\":\"Bokeh Application\",\"version\":\"2.3.1\"}};\n",
       "    var render_items = [{\"docid\":\"2656fac4-ff30-45a3-88b0-0b0cb86e7db8\",\"root_ids\":[\"1007\"],\"roots\":{\"1007\":\"8b525e5c-5d60-4121-8128-58e80582f959\"}}];\n",
       "    root.Bokeh.embed.embed_items_notebook(docs_json, render_items);\n",
       "  }\n",
       "  if (root.Bokeh !== undefined && root.Bokeh.Panel !== undefined && root['Plotly'] !== undefined ) {\n",
       "    embed_document(root);\n",
       "  } else {\n",
       "    var attempts = 0;\n",
       "    var timer = setInterval(function(root) {\n",
       "      if (root.Bokeh !== undefined && root.Bokeh.Panel !== undefined && root['Plotly'] !== undefined) {\n",
       "        clearInterval(timer);\n",
       "        embed_document(root);\n",
       "      } else if (document.readyState == \"complete\") {\n",
       "        attempts++;\n",
       "        if (attempts > 100) {\n",
       "          clearInterval(timer);\n",
       "          console.log(\"Bokeh: ERROR: Unable to run BokehJS code because BokehJS library is missing\");\n",
       "        }\n",
       "      }\n",
       "    }, 10, root)\n",
       "  }\n",
       "})(window);</script>"
      ],
      "text/plain": [
       "Matplotlib(Figure, tight=True)"
      ]
     },
     "execution_count": 37,
     "metadata": {
      "application/vnd.holoviews_exec.v0+json": {
       "id": "1007"
      }
     },
     "output_type": "execute_result"
    },
    {
     "data": {
      "image/png": "[encoded data removed]",
      "text/plain": [
       "<Figure size 1080x720 with 1 Axes>"
      ]
     },
     "metadata": {
      "needs_background": "light"
     },
     "output_type": "display_data"
    }
   ],
   "source": [
    "housing_units_per_year()"
   ]
  },
  {
   "cell_type": "code",
   "execution_count": 38,
   "metadata": {},
   "outputs": [
    {
     "data": {},
     "metadata": {},
     "output_type": "display_data"
    },
    {
     "data": {
      "application/vnd.holoviews_exec.v0+json": "",
      "text/html": [
       "<div id='1009'>\n",
       "\n",
       "\n",
       "\n",
       "\n",
       "\n",
       "  <div class=\"bk-root\" id=\"a2cc7720-d534-4d74-9502-9a8fe30baecd\" data-root-id=\"1009\"></div>\n",
       "</div>\n",
       "<script type=\"application/javascript\">(function(root) {\n",
       "  function embed_document(root) {\n",
       "    var docs_json = {\"bfa4055f-9584-4235-aae1-0f83cb4ca19f\":{\"defs\":[],\"roots\":{\"references\":[{\"attributes\":{\"height\":288,\"margin\":[5,5,5,5],\"name\":\"Matplotlib01494\",\"text\":\"&lt;img src=&quot;data:image/png;base64,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&quot; width=&quot;432px&quot; height=&quot;288px&quot; alt=&quot;&quot;&gt;&lt;/img&gt;\",\"width\":432},\"id\":\"1009\",\"type\":\"panel.models.markup.HTML\"},{\"attributes\":{\"client_comm_id\":\"55985c9e4bb246f9b2e40d91142b5fd0\",\"comm_id\":\"94936f7a685c419984ba9bf50fc94721\",\"plot_id\":\"1009\"},\"id\":\"1010\",\"type\":\"panel.models.comm_manager.CommManager\"}],\"root_ids\":[\"1009\",\"1010\"]},\"title\":\"Bokeh Application\",\"version\":\"2.3.1\"}};\n",
       "    var render_items = [{\"docid\":\"bfa4055f-9584-4235-aae1-0f83cb4ca19f\",\"root_ids\":[\"1009\"],\"roots\":{\"1009\":\"a2cc7720-d534-4d74-9502-9a8fe30baecd\"}}];\n",
       "    root.Bokeh.embed.embed_items_notebook(docs_json, render_items);\n",
       "  }\n",
       "  if (root.Bokeh !== undefined && root.Bokeh.Panel !== undefined && root['Plotly'] !== undefined ) {\n",
       "    embed_document(root);\n",
       "  } else {\n",
       "    var attempts = 0;\n",
       "    var timer = setInterval(function(root) {\n",
       "      if (root.Bokeh !== undefined && root.Bokeh.Panel !== undefined && root['Plotly'] !== undefined) {\n",
       "        clearInterval(timer);\n",
       "        embed_document(root);\n",
       "      } else if (document.readyState == \"complete\") {\n",
       "        attempts++;\n",
       "        if (attempts > 100) {\n",
       "          clearInterval(timer);\n",
       "          console.log(\"Bokeh: ERROR: Unable to run BokehJS code because BokehJS library is missing\");\n",
       "        }\n",
       "      }\n",
       "    }, 10, root)\n",
       "  }\n",
       "})(window);</script>"
      ],
      "text/plain": [
       "Matplotlib(Figure)"
      ]
     },
     "execution_count": 38,
     "metadata": {
      "application/vnd.holoviews_exec.v0+json": {
       "id": "1009"
      }
     },
     "output_type": "execute_result"
    },
    {
     "data": {
      "image/png": "[encoded data removed]",
      "text/plain": [
       "<Figure size 1080x720 with 1 Axes>"
      ]
     },
     "metadata": {
      "needs_background": "light"
     },
     "output_type": "display_data"
    }
   ],
   "source": [
    " average_gross_rent()"
   ]
  },
  {
   "cell_type": "code",
   "execution_count": 39,
   "metadata": {},
   "outputs": [
    {
     "ename": "NameError",
     "evalue": "name 'average_sales_price' is not defined",
     "output_type": "error",
     "traceback": [
      "\u001b[0;31m---------------------------------------------------------------------------\u001b[0m",
      "\u001b[0;31mNameError\u001b[0m                                 Traceback (most recent call last)",
      "\u001b[0;32m<ipython-input-39-5d7821551770>\u001b[0m in \u001b[0;36m<module>\u001b[0;34m\u001b[0m\n\u001b[0;32m----> 1\u001b[0;31m \u001b[0maverage_sales_price\u001b[0m\u001b[0;34m(\u001b[0m\u001b[0;34m)\u001b[0m\u001b[0;34m\u001b[0m\u001b[0;34m\u001b[0m\u001b[0m\n\u001b[0m",
      "\u001b[0;31mNameError\u001b[0m: name 'average_sales_price' is not defined"
     ]
    }
   ],
   "source": [
    "average_sales_price()"
   ]
  },
  {
   "cell_type": "code",
   "execution_count": 40,
   "metadata": {},
   "outputs": [],
   "source": [
    "#average_price_by_neighborhood()"
   ]
  },
  {
   "cell_type": "code",
   "execution_count": 41,
   "metadata": {},
   "outputs": [],
   "source": [
    "#average_rent_by_neighborhood()"
   ]
  },
  {
   "cell_type": "code",
   "execution_count": 42,
   "metadata": {},
   "outputs": [],
   "source": [
    "#top_most_expensive_neighborhoods()"
   ]
  },
  {
   "cell_type": "code",
   "execution_count": 236,
   "metadata": {},
   "outputs": [],
   "source": [
    "#most_expensive_neighborhoods_rent_sales()"
   ]
  },
  {
   "cell_type": "code",
   "execution_count": 237,
   "metadata": {},
   "outputs": [],
   "source": [
    "#neighborhood_map().show()"
   ]
  },
  {
   "cell_type": "code",
   "execution_count": 238,
   "metadata": {},
   "outputs": [],
   "source": [
    "#parallel_categories()"
   ]
  },
  {
   "cell_type": "code",
   "execution_count": 239,
   "metadata": {},
   "outputs": [],
   "source": [
    "#parallel_coordinates()"
   ]
  },
  {
   "cell_type": "code",
   "execution_count": 43,
   "metadata": {},
   "outputs": [
    {
     "ename": "ValueError",
     "evalue": "Value of 'path_0' is not the name of a column in 'data_frame'. Expected one of ['Neighborhood', 'Avg. Sale Price per Square Foot', 'Housing Units', 'Gross Rent'] but received: Year",
     "output_type": "error",
     "traceback": [
      "\u001b[0;31m---------------------------------------------------------------------------\u001b[0m",
      "\u001b[0;31mValueError\u001b[0m                                Traceback (most recent call last)",
      "\u001b[0;32m<ipython-input-43-21583194b77f>\u001b[0m in \u001b[0;36m<module>\u001b[0;34m\u001b[0m\n\u001b[0;32m----> 1\u001b[0;31m \u001b[0msunburst\u001b[0m\u001b[0;34m(\u001b[0m\u001b[0;34m)\u001b[0m\u001b[0;34m\u001b[0m\u001b[0;34m\u001b[0m\u001b[0m\n\u001b[0m",
      "\u001b[0;32m<ipython-input-34-735e1a4f3586>\u001b[0m in \u001b[0;36msunburst\u001b[0;34m()\u001b[0m\n\u001b[1;32m    160\u001b[0m         \u001b[0mpath\u001b[0m\u001b[0;34m=\u001b[0m\u001b[0;34m[\u001b[0m\u001b[0;34m\"Year\"\u001b[0m\u001b[0;34m,\u001b[0m \u001b[0;34m\"Neighborhood\"\u001b[0m\u001b[0;34m]\u001b[0m\u001b[0;34m,\u001b[0m\u001b[0;34m\u001b[0m\u001b[0;34m\u001b[0m\u001b[0m\n\u001b[1;32m    161\u001b[0m         \u001b[0mcolor\u001b[0m\u001b[0;34m=\u001b[0m\u001b[0;34m\"Gross Rent\"\u001b[0m\u001b[0;34m,\u001b[0m\u001b[0;34m\u001b[0m\u001b[0;34m\u001b[0m\u001b[0m\n\u001b[0;32m--> 162\u001b[0;31m         \u001b[0mcolor_continuous_scale\u001b[0m\u001b[0;34m=\u001b[0m\u001b[0mpx\u001b[0m\u001b[0;34m.\u001b[0m\u001b[0mcolors\u001b[0m\u001b[0;34m.\u001b[0m\u001b[0msequential\u001b[0m\u001b[0;34m.\u001b[0m\u001b[0mBlues\u001b[0m\u001b[0;34m\u001b[0m\u001b[0;34m\u001b[0m\u001b[0m\n\u001b[0m\u001b[1;32m    163\u001b[0m     )\n\u001b[1;32m    164\u001b[0m \u001b[0;34m\u001b[0m\u001b[0m\n",
      "\u001b[0;32m/opt/anaconda3/envs/pyvizenv/lib/python3.7/site-packages/plotly/express/_chart_types.py\u001b[0m in \u001b[0;36msunburst\u001b[0;34m(data_frame, names, values, parents, path, ids, color, color_continuous_scale, range_color, color_continuous_midpoint, color_discrete_sequence, color_discrete_map, hover_name, hover_data, custom_data, labels, title, template, width, height, branchvalues, maxdepth)\u001b[0m\n\u001b[1;32m   1416\u001b[0m         \u001b[0mconstructor\u001b[0m\u001b[0;34m=\u001b[0m\u001b[0mgo\u001b[0m\u001b[0;34m.\u001b[0m\u001b[0mSunburst\u001b[0m\u001b[0;34m,\u001b[0m\u001b[0;34m\u001b[0m\u001b[0;34m\u001b[0m\u001b[0m\n\u001b[1;32m   1417\u001b[0m         \u001b[0mtrace_patch\u001b[0m\u001b[0;34m=\u001b[0m\u001b[0mdict\u001b[0m\u001b[0;34m(\u001b[0m\u001b[0mbranchvalues\u001b[0m\u001b[0;34m=\u001b[0m\u001b[0mbranchvalues\u001b[0m\u001b[0;34m,\u001b[0m \u001b[0mmaxdepth\u001b[0m\u001b[0;34m=\u001b[0m\u001b[0mmaxdepth\u001b[0m\u001b[0;34m)\u001b[0m\u001b[0;34m,\u001b[0m\u001b[0;34m\u001b[0m\u001b[0;34m\u001b[0m\u001b[0m\n\u001b[0;32m-> 1418\u001b[0;31m         \u001b[0mlayout_patch\u001b[0m\u001b[0;34m=\u001b[0m\u001b[0mlayout_patch\u001b[0m\u001b[0;34m,\u001b[0m\u001b[0;34m\u001b[0m\u001b[0;34m\u001b[0m\u001b[0m\n\u001b[0m\u001b[1;32m   1419\u001b[0m     )\n\u001b[1;32m   1420\u001b[0m \u001b[0;34m\u001b[0m\u001b[0m\n",
      "\u001b[0;32m/opt/anaconda3/envs/pyvizenv/lib/python3.7/site-packages/plotly/express/_core.py\u001b[0m in \u001b[0;36mmake_figure\u001b[0;34m(args, constructor, trace_patch, layout_patch)\u001b[0m\n\u001b[1;32m   1859\u001b[0m     \u001b[0mapply_default_cascade\u001b[0m\u001b[0;34m(\u001b[0m\u001b[0margs\u001b[0m\u001b[0;34m)\u001b[0m\u001b[0;34m\u001b[0m\u001b[0;34m\u001b[0m\u001b[0m\n\u001b[1;32m   1860\u001b[0m \u001b[0;34m\u001b[0m\u001b[0m\n\u001b[0;32m-> 1861\u001b[0;31m     \u001b[0margs\u001b[0m \u001b[0;34m=\u001b[0m \u001b[0mbuild_dataframe\u001b[0m\u001b[0;34m(\u001b[0m\u001b[0margs\u001b[0m\u001b[0;34m,\u001b[0m \u001b[0mconstructor\u001b[0m\u001b[0;34m)\u001b[0m\u001b[0;34m\u001b[0m\u001b[0;34m\u001b[0m\u001b[0m\n\u001b[0m\u001b[1;32m   1862\u001b[0m     \u001b[0;32mif\u001b[0m \u001b[0mconstructor\u001b[0m \u001b[0;32min\u001b[0m \u001b[0;34m[\u001b[0m\u001b[0mgo\u001b[0m\u001b[0;34m.\u001b[0m\u001b[0mTreemap\u001b[0m\u001b[0;34m,\u001b[0m \u001b[0mgo\u001b[0m\u001b[0;34m.\u001b[0m\u001b[0mSunburst\u001b[0m\u001b[0;34m]\u001b[0m \u001b[0;32mand\u001b[0m \u001b[0margs\u001b[0m\u001b[0;34m[\u001b[0m\u001b[0;34m\"path\"\u001b[0m\u001b[0;34m]\u001b[0m \u001b[0;32mis\u001b[0m \u001b[0;32mnot\u001b[0m \u001b[0;32mNone\u001b[0m\u001b[0;34m:\u001b[0m\u001b[0;34m\u001b[0m\u001b[0;34m\u001b[0m\u001b[0m\n\u001b[1;32m   1863\u001b[0m         \u001b[0margs\u001b[0m \u001b[0;34m=\u001b[0m \u001b[0mprocess_dataframe_hierarchy\u001b[0m\u001b[0;34m(\u001b[0m\u001b[0margs\u001b[0m\u001b[0;34m)\u001b[0m\u001b[0;34m\u001b[0m\u001b[0;34m\u001b[0m\u001b[0m\n",
      "\u001b[0;32m/opt/anaconda3/envs/pyvizenv/lib/python3.7/site-packages/plotly/express/_core.py\u001b[0m in \u001b[0;36mbuild_dataframe\u001b[0;34m(args, constructor)\u001b[0m\n\u001b[1;32m   1376\u001b[0m \u001b[0;34m\u001b[0m\u001b[0m\n\u001b[1;32m   1377\u001b[0m     df_output, wide_id_vars = process_args_into_dataframe(\n\u001b[0;32m-> 1378\u001b[0;31m         \u001b[0margs\u001b[0m\u001b[0;34m,\u001b[0m \u001b[0mwide_mode\u001b[0m\u001b[0;34m,\u001b[0m \u001b[0mvar_name\u001b[0m\u001b[0;34m,\u001b[0m \u001b[0mvalue_name\u001b[0m\u001b[0;34m\u001b[0m\u001b[0;34m\u001b[0m\u001b[0m\n\u001b[0m\u001b[1;32m   1379\u001b[0m     )\n\u001b[1;32m   1380\u001b[0m \u001b[0;34m\u001b[0m\u001b[0m\n",
      "\u001b[0;32m/opt/anaconda3/envs/pyvizenv/lib/python3.7/site-packages/plotly/express/_core.py\u001b[0m in \u001b[0;36mprocess_args_into_dataframe\u001b[0;34m(args, wide_mode, var_name, value_name)\u001b[0m\n\u001b[1;32m   1181\u001b[0m                         \u001b[0;32mif\u001b[0m \u001b[0margument\u001b[0m \u001b[0;34m==\u001b[0m \u001b[0;34m\"index\"\u001b[0m\u001b[0;34m:\u001b[0m\u001b[0;34m\u001b[0m\u001b[0;34m\u001b[0m\u001b[0m\n\u001b[1;32m   1182\u001b[0m                             \u001b[0merr_msg\u001b[0m \u001b[0;34m+=\u001b[0m \u001b[0;34m\"\\n To use the index, pass it in directly as `df.index`.\"\u001b[0m\u001b[0;34m\u001b[0m\u001b[0;34m\u001b[0m\u001b[0m\n\u001b[0;32m-> 1183\u001b[0;31m                         \u001b[0;32mraise\u001b[0m \u001b[0mValueError\u001b[0m\u001b[0;34m(\u001b[0m\u001b[0merr_msg\u001b[0m\u001b[0;34m)\u001b[0m\u001b[0;34m\u001b[0m\u001b[0;34m\u001b[0m\u001b[0m\n\u001b[0m\u001b[1;32m   1184\u001b[0m                 \u001b[0;32melif\u001b[0m \u001b[0mlength\u001b[0m \u001b[0;32mand\u001b[0m \u001b[0mlen\u001b[0m\u001b[0;34m(\u001b[0m\u001b[0mdf_input\u001b[0m\u001b[0;34m[\u001b[0m\u001b[0margument\u001b[0m\u001b[0;34m]\u001b[0m\u001b[0;34m)\u001b[0m \u001b[0;34m!=\u001b[0m \u001b[0mlength\u001b[0m\u001b[0;34m:\u001b[0m\u001b[0;34m\u001b[0m\u001b[0;34m\u001b[0m\u001b[0m\n\u001b[1;32m   1185\u001b[0m                     raise ValueError(\n",
      "\u001b[0;31mValueError\u001b[0m: Value of 'path_0' is not the name of a column in 'data_frame'. Expected one of ['Neighborhood', 'Avg. Sale Price per Square Foot', 'Housing Units', 'Gross Rent'] but received: Year"
     ]
    }
   ],
   "source": [
    "sunburst()"
   ]
  },
  {
   "cell_type": "code",
   "execution_count": null,
   "metadata": {},
   "outputs": [],
   "source": []
  }
 ],
 "metadata": {
  "file_extension": ".py",
  "kernelspec": {
   "display_name": "Python [conda env:anaconda3-pyvizenv] *",
   "language": "python",
   "name": "conda-env-anaconda3-pyvizenv-py"
  },
  "language_info": {
   "codemirror_mode": {
    "name": "ipython",
    "version": 3
   },
   "file_extension": ".py",
   "mimetype": "text/x-python",
   "name": "python",
   "nbconvert_exporter": "python",
   "pygments_lexer": "ipython3",
   "version": "3.7.9"
  },
  "mimetype": "text/x-python",
  "name": "python",
  "npconvert_exporter": "python",
  "pygments_lexer": "ipython3",
  "version": 3
 },
 "nbformat": 4,
 "nbformat_minor": 4
}
